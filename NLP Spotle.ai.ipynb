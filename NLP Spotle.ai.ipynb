{
 "cells": [
  {
   "cell_type": "code",
   "execution_count": 2,
   "metadata": {},
   "outputs": [],
   "source": [
    "import nltk"
   ]
  },
  {
   "cell_type": "code",
   "execution_count": 3,
   "metadata": {},
   "outputs": [
    {
     "name": "stdout",
     "output_type": "stream",
     "text": [
      "['All work and no play makes jack dull boy.', 'All work and no play makes jack a dull boy.']\n"
     ]
    },
    {
     "data": {
      "text/plain": [
       "['All work and no play makes jack dull boy.',\n",
       " 'All work and no play makes jack a dull boy.']"
      ]
     },
     "execution_count": 3,
     "metadata": {},
     "output_type": "execute_result"
    }
   ],
   "source": [
    "#Tokenizing sentences\n",
    "\n",
    "from nltk.tokenize import sent_tokenize\n",
    "\n",
    "data = \"All work and no play makes jack dull boy. All work and no play makes jack a dull boy.\"\n",
    "print(sent_tokenize(data))\n",
    "['All work and no play makes jack dull boy.', 'All work and no play makes jack a dull boy.']\n"
   ]
  },
  {
   "cell_type": "code",
   "execution_count": 6,
   "metadata": {},
   "outputs": [
    {
     "name": "stdout",
     "output_type": "stream",
     "text": [
      "['All', 'work', 'and', 'no', 'play', 'makes', 'jack', 'a', 'dull', 'boy', ',', 'all', 'work', 'and', 'no', 'play']\n"
     ]
    },
    {
     "data": {
      "text/plain": [
       "['All',\n",
       " 'work',\n",
       " 'and',\n",
       " 'no',\n",
       " 'play',\n",
       " 'makes',\n",
       " 'jack',\n",
       " 'a',\n",
       " 'dull',\n",
       " 'boy',\n",
       " ',',\n",
       " 'all',\n",
       " 'work',\n",
       " 'and',\n",
       " 'no',\n",
       " 'play']"
      ]
     },
     "execution_count": 6,
     "metadata": {},
     "output_type": "execute_result"
    }
   ],
   "source": [
    "# Tokenize words\n",
    "\n",
    "from nltk.tokenize import word_tokenize\n",
    "\n",
    "data = \"All work and no play makes jack a dull boy, all work and no play\"\n",
    "print(word_tokenize(data))\n",
    "['All', 'work', 'and', 'no', 'play', 'makes', 'jack', 'a', 'dull', 'boy', ',', 'all', 'work', 'and', 'no', 'play']"
   ]
  },
  {
   "cell_type": "code",
   "execution_count": 7,
   "metadata": {
    "scrolled": true
   },
   "outputs": [
    {
     "name": "stdout",
     "output_type": "stream",
     "text": [
      "{'there', 'all', 'in', 'our', 'or', 'before', 'hadn', 'am', 'which', 'should', 'same', 'again', 'until', 'shouldn', 'll', 'too', 'it', 'was', 'did', 'below', 'than', 'my', 'can', 'o', 'shan', \"don't\", 'an', 'will', 'her', 'having', 'i', 'a', 'his', 'she', \"mustn't\", 'didn', 'nor', \"aren't\", 'won', 'him', 'while', 'just', 'these', 'then', 'most', 'now', 'hers', 'ain', 'don', 'ours', 'aren', 'myself', 'do', 'during', 'itself', 'each', 'themselves', \"you've\", \"doesn't\", 'we', 'when', 'by', 'y', 'against', 'more', \"weren't\", 'are', 'their', 'out', 'both', 'very', 'ma', \"it's\", 'no', 'other', \"won't\", 'doesn', 'be', 'who', 'isn', 'where', 'through', 'theirs', 'needn', 'couldn', 'wouldn', \"you'll\", 'on', 'so', 'your', 'what', \"that'll\", 've', 'this', 'ourselves', 'between', 'has', 'weren', 'at', \"hasn't\", 'the', \"shan't\", 'herself', 'few', 't', \"hadn't\", 'were', \"she's\", 'does', \"didn't\", 'from', 'once', 'of', 'yours', 'd', 'being', 'doing', 'here', \"shouldn't\", 'its', 'how', 'haven', \"wouldn't\", 'to', \"needn't\", \"haven't\", 'any', \"mightn't\", \"you'd\", 'have', 're', 'yourself', 'under', 'he', 'about', 'but', 'with', 'above', 'further', 'whom', 'is', 'why', 'into', 'mustn', 'not', 'been', 'off', 'mightn', 's', 'wasn', 'up', 'that', 'yourselves', 'down', 'only', 'after', 'own', 'them', \"wasn't\", \"isn't\", 'they', 'over', 'me', 'because', 'such', \"should've\", 'those', 'hasn', 'had', 'if', 'm', 'some', 'you', \"you're\", 'as', 'himself', 'for', \"couldn't\", 'and'}\n"
     ]
    },
    {
     "data": {
      "text/plain": [
       "{'a',\n",
       " 'about',\n",
       " 'above',\n",
       " 'after',\n",
       " 'again',\n",
       " 'against',\n",
       " 'ain',\n",
       " 'all',\n",
       " 'am',\n",
       " 'an',\n",
       " 'and',\n",
       " 'any',\n",
       " 'are',\n",
       " 'aren',\n",
       " 'as',\n",
       " 'at',\n",
       " 'be',\n",
       " 'because',\n",
       " 'been',\n",
       " 'before',\n",
       " 'being',\n",
       " 'below',\n",
       " 'between',\n",
       " 'both',\n",
       " 'but',\n",
       " 'by',\n",
       " 'can',\n",
       " 'couldn',\n",
       " 'd',\n",
       " 'did',\n",
       " 'didn',\n",
       " 'do',\n",
       " 'does',\n",
       " 'doesn',\n",
       " 'doing',\n",
       " 'don',\n",
       " 'down',\n",
       " 'during',\n",
       " 'each',\n",
       " 'few',\n",
       " 'for',\n",
       " 'from',\n",
       " 'further',\n",
       " 'had',\n",
       " 'hadn',\n",
       " 'has',\n",
       " 'hasn',\n",
       " 'have',\n",
       " 'haven',\n",
       " 'having',\n",
       " 'he',\n",
       " 'her',\n",
       " 'here',\n",
       " 'hers',\n",
       " 'herself',\n",
       " 'him',\n",
       " 'himself',\n",
       " 'his',\n",
       " 'how',\n",
       " 'i',\n",
       " 'if',\n",
       " 'in',\n",
       " 'into',\n",
       " 'is',\n",
       " 'isn',\n",
       " 'it',\n",
       " 'its',\n",
       " 'itself',\n",
       " 'just',\n",
       " 'll',\n",
       " 'm',\n",
       " 'ma',\n",
       " 'me',\n",
       " 'mightn',\n",
       " 'more',\n",
       " 'most',\n",
       " 'mustn',\n",
       " 'my',\n",
       " 'myself',\n",
       " 'needn',\n",
       " 'no',\n",
       " 'nor',\n",
       " 'not',\n",
       " 'now',\n",
       " 'o',\n",
       " 'of',\n",
       " 'off',\n",
       " 'on',\n",
       " 'once',\n",
       " 'only',\n",
       " 'or',\n",
       " 'other',\n",
       " 'our',\n",
       " 'ours',\n",
       " 'ourselves',\n",
       " 'out',\n",
       " 'over',\n",
       " 'own',\n",
       " 're',\n",
       " 's',\n",
       " 'same',\n",
       " 'shan',\n",
       " 'she',\n",
       " 'should',\n",
       " 'shouldn',\n",
       " 'so',\n",
       " 'some',\n",
       " 'such',\n",
       " 't',\n",
       " 'than',\n",
       " 'that',\n",
       " 'the',\n",
       " 'their',\n",
       " 'theirs',\n",
       " 'them',\n",
       " 'themselves',\n",
       " 'then',\n",
       " 'there',\n",
       " 'these',\n",
       " 'they',\n",
       " 'this',\n",
       " 'those',\n",
       " 'through',\n",
       " 'to',\n",
       " 'too',\n",
       " 'under',\n",
       " 'until',\n",
       " 'up',\n",
       " 've',\n",
       " 'very',\n",
       " 'was',\n",
       " 'wasn',\n",
       " 'we',\n",
       " 'were',\n",
       " 'weren',\n",
       " 'what',\n",
       " 'when',\n",
       " 'where',\n",
       " 'which',\n",
       " 'while',\n",
       " 'who',\n",
       " 'whom',\n",
       " 'why',\n",
       " 'will',\n",
       " 'with',\n",
       " 'won',\n",
       " 'wouldn',\n",
       " 'y',\n",
       " 'you',\n",
       " 'your',\n",
       " 'yours',\n",
       " 'yourself',\n",
       " 'yourselves'}"
      ]
     },
     "execution_count": 7,
     "metadata": {},
     "output_type": "execute_result"
    }
   ],
   "source": [
    "from nltk.tokenize import word_tokenize\n",
    "from nltk.corpus import stopwords\n",
    "\n",
    "data = \"All work and no play makes jack a dull boy, all work and no play\"\n",
    "words = word_tokenize(data)\n",
    "stop_words = set(stopwords.words('english'))\n",
    "print(stop_words)\n",
    "{'at', 'here', 'once', 'or', 'them', 'doing', 'own', 'in', 'haven', 'further', 'for', 'if', 'than', 'aren', 'where', 'be', 'being', 'll', 'what', 'while', 'through', 'nor', 'yours', 'only', 'm', 'not', 'against', 'will', 'an', 'did', 'she', 'were', 'but', 'isn', 'few', 'which', 'just', 'myself', 'more', 'd', 'and', 'themselves', 'to', 'needn', 're', 'yourself', 'such', 'your', 'it', 'a', 'off', 'been', 'her', 'now', 'the', 'had', 'we', 'down', 'him', 'above', 'mightn', 'ma', 'on', 'no', 'ain', 'hasn', 'ours', 'both', 's', 'you', 'am', 'weren', 'don', 'shouldn', 'our', 'me', 'does', 'has', 'of', 'doesn', 't', 'before', 'theirs', 'each', 'over', 'out', 'most', 'yourselves', 'shan', 'because', 'have', 'into', 'during', 'too', 'itself', 'very', 'didn', 'this', 'himself', 'same', 'up', 'any', 'when', 'do', 'hadn', 'i', 'are', 'whom', 'other', 'again', 'with', 'won', 'couldn', 'these', 'his', 'why', 'then', 'o', 'hers', 'my', 'their', 'from', 'how', 'is', 'ourselves', 'mustn', 'its', 'should', 'he', 'as', 'wouldn', 'was', 'there', 'herself', 'they', 'y', 'wasn', 'that', 'under', 'so', 'some', 've', 'between', 'by', 'those', 'having', 'all', 'below', 'can', 'after', 'who', 'about', 'until'}\n",
    "\n",
    "\n"
   ]
  },
  {
   "cell_type": "code",
   "execution_count": 8,
   "metadata": {},
   "outputs": [
    {
     "name": "stdout",
     "output_type": "stream",
     "text": [
      "['All', 'work', 'play', 'makes', 'jack', 'dull', 'boy', ',', 'work', 'play']\n"
     ]
    },
    {
     "data": {
      "text/plain": [
       "['All', 'work', 'play', 'makes', 'jack', 'dull', 'boy', ',', 'work', 'play']"
      ]
     },
     "execution_count": 8,
     "metadata": {},
     "output_type": "execute_result"
    }
   ],
   "source": [
    "filtered_word = []\n",
    "\n",
    "for wrd in words:\n",
    "    if wrd not in stop_words:\n",
    "        filtered_word.append(wrd)\n",
    "        \n",
    "print(filtered_word)\n",
    "['All', 'work', 'play', 'makes', 'jack', 'dull', 'boy', ',', 'work', 'play']"
   ]
  },
  {
   "cell_type": "code",
   "execution_count": 9,
   "metadata": {},
   "outputs": [
    {
     "name": "stdout",
     "output_type": "stream",
     "text": [
      "[('Whether', 'IN'), ('you', 'PRP'), (\"'re\", 'VBP'), ('new', 'JJ'), ('to', 'TO'), ('programming', 'VBG'), ('or', 'CC'), ('an', 'DT'), ('experienced', 'JJ'), ('developer', 'NN'), (',', ','), ('it', 'PRP'), (\"'s\", 'VBZ'), ('easy', 'JJ'), ('to', 'TO'), ('learn', 'VB'), ('and', 'CC'), ('use', 'VB'), ('Python', 'NNP'), ('.', '.')]\n"
     ]
    },
    {
     "data": {
      "text/plain": [
       "[('Whether', 'IN'),\n",
       " ('you', 'PRP'),\n",
       " (\"'re\", 'VBP'),\n",
       " ('new', 'JJ'),\n",
       " ('to', 'TO'),\n",
       " ('programming', 'VBG'),\n",
       " ('or', 'CC'),\n",
       " ('an', 'DT'),\n",
       " ('experienced', 'JJ'),\n",
       " ('developer', 'NN'),\n",
       " (',', ','),\n",
       " ('it', 'PRP'),\n",
       " (\"'s\", 'VBZ'),\n",
       " ('easy', 'JJ'),\n",
       " ('to', 'TO'),\n",
       " ('learn', 'VB'),\n",
       " ('and', 'CC'),\n",
       " ('use', 'VB'),\n",
       " ('Python', 'NNP'),\n",
       " ('.', '.')]"
      ]
     },
     "execution_count": 9,
     "metadata": {},
     "output_type": "execute_result"
    }
   ],
   "source": [
    "# NLTK - stemming\n",
    "\n",
    "import nltk\n",
    "from nltk.tokenize import PunktSentenceTokenizer\n",
    "\n",
    "document = 'Whether you\\'re new to programming or an experienced developer, it\\'s easy to learn and use Python.'\n",
    "sentences = nltk.sent_tokenize(document)   \n",
    "for sent in sentences:\n",
    "    print(nltk.pos_tag(nltk.word_tokenize(sent)))\n",
    "[('Whether', 'IN'), ('you', 'PRP'), (\"'re\", 'VBP'), ('new', 'JJ'), ('to', 'TO'), ('programming', 'VBG'), ('or', 'CC'), ('an', 'DT'), ('experienced', 'JJ'), ('developer', 'NN'), (',', ','), ('it', 'PRP'), (\"'s\", 'VBZ'), ('easy', 'JJ'), ('to', 'TO'), ('learn', 'VB'), ('and', 'CC'), ('use', 'VB'), ('Python', 'NNP'), ('.', '.')]"
   ]
  },
  {
   "cell_type": "code",
   "execution_count": 10,
   "metadata": {
    "scrolled": false
   },
   "outputs": [
    {
     "name": "stdout",
     "output_type": "stream",
     "text": [
      "('helicopters', 'NNS')\n",
      "('boats', 'NNS')\n",
      "('National', 'NNP')\n",
      "('Disaster', 'NNP')\n",
      "('Response', 'NNP')\n",
      "('Force', 'NNP')\n",
      "('people', 'NNS')\n",
      "('board', 'NN')\n",
      "('passenger', 'NN')\n",
      "('train', 'NN')\n",
      "('km', 'NNS')\n",
      "('Mumbai', 'NNP')\n",
      "('Saturday', 'NNP')\n",
      "('rain', 'NN')\n",
      "('city', 'NN')\n",
      "('areas', 'NNS')\n"
     ]
    },
    {
     "data": {
      "text/plain": [
       "('areas', 'NNS')"
      ]
     },
     "execution_count": 10,
     "metadata": {},
     "output_type": "execute_result"
    }
   ],
   "source": [
    "# filter nouns\n",
    "\n",
    "import nltk\n",
    "from nltk.corpus import state_union\n",
    "from nltk.tokenize import PunktSentenceTokenizer\n",
    "\n",
    "document = 'Two military helicopters and six boats of the National Disaster Response Force were sent in to rescue as many as 900 people stranded on board a passenger train about 60 km out of Mumbai on Saturday after heavy rain paralysed the city and its surrounding areas.'\n",
    "sentences = nltk.sent_tokenize(document)   \n",
    "\n",
    "data = []\n",
    "for sent in sentences:\n",
    "    data = data + nltk.pos_tag(nltk.word_tokenize(sent))\n",
    "\n",
    "#print(data)\n",
    "\n",
    "for word in data: \n",
    "    if word[1] in ['NN', 'NNP', 'NNS']: \n",
    "        print(word)\n",
    "('helicopters', 'NNS')\n",
    "('boats', 'NNS')\n",
    "('National', 'NNP')\n",
    "('Disaster', 'NNP')\n",
    "('Response', 'NNP')\n",
    "('Force', 'NNP')\n",
    "('people', 'NNS')\n",
    "('board', 'NN')\n",
    "('passenger', 'NN')\n",
    "('train', 'NN')\n",
    "('km', 'NNS')\n",
    "('Mumbai', 'NNP')\n",
    "('Saturday', 'NNP')\n",
    "('rain', 'NN')\n",
    "('city', 'NN')\n",
    "('areas', 'NNS')"
   ]
  }
 ],
 "metadata": {
  "kernelspec": {
   "display_name": "Python 3",
   "language": "python",
   "name": "python3"
  },
  "language_info": {
   "codemirror_mode": {
    "name": "ipython",
    "version": 3
   },
   "file_extension": ".py",
   "mimetype": "text/x-python",
   "name": "python",
   "nbconvert_exporter": "python",
   "pygments_lexer": "ipython3",
   "version": "3.8.5"
  }
 },
 "nbformat": 4,
 "nbformat_minor": 4
}
